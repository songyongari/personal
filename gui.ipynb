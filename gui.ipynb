{
 "cells": [
  {
   "cell_type": "code",
   "execution_count": null,
   "metadata": {},
   "outputs": [],
   "source": [
    "        # 시트 순서 재조정\n",
    "        wb = load_workbook(output_file)\n",
    "        sheet_order = ['매출 요약', '챌린지 매출', '부트캠프 매출']\n",
    "        wb._sheets = [wb[sheet] for sheet in sheet_order if sheet in wb.sheetnames]\n",
    "        wb.save(output_file)\n",
    "\n",
    "        messagebox.showinfo(\"성공\", f\"파일이 성공적으로 생성되었습니다: {output_file}\")\n",
    "\n",
    "    except Exception as e:\n",
    "        messagebox.showerror(\"오류\", f\"오류가 발생했습니다: {e}\")\n",
    "\n",
    "def select_input_file():\n",
    "    input_file = filedialog.askopenfilename(title=\"입력 파일 선택\", filetypes=[(\"Excel files\", \"*.xlsx *.xls\")])\n",
    "    input_entry.delete(0, tk.END)\n",
    "    input_entry.insert(0, input_file)\n",
    "\n",
    "def select_output_file():\n",
    "    output_file = filedialog.asksaveasfilename(defaultextension=\".xlsx\", title=\"출력 파일 저장\", filetypes=[(\"Excel files\", \"*.xlsx\")])\n",
    "    output_entry.delete(0, tk.END)\n",
    "    output_entry.insert(0, output_file)\n",
    "\n",
    "def run_process():\n",
    "    input_file = input_entry.get()\n",
    "    output_file = output_entry.get()\n",
    "    if not input_file or not output_file:\n",
    "        messagebox.showwarning(\"경고\", \"입력 파일과 출력 파일을 모두 선택해야 합니다.\")\n",
    "        return\n",
    "    process_orders(input_file, output_file)\n",
    "\n",
    "# GUI 설정\n",
    "root = tk.Tk()\n",
    "root.title(\"Process Orders\")\n",
    "\n",
    "tk.Label(root, text=\"입력 파일:\").grid(row=0, column=0, padx=10, pady=10)\n",
    "input_entry = tk.Entry(root, width=50)\n",
    "input_entry.grid(row=0, column=1, padx=10, pady=10)\n",
    "tk.Button(root, text=\"파일 선택\", command=select_input_file).grid(row=0, column=2, padx=10, pady=10)\n",
    "\n",
    "tk.Label(root, text=\"출력 파일:\").grid(row=1, column=0, padx=10, pady=10)\n",
    "output_entry = tk.Entry(root, width=50)\n",
    "output_entry.grid(row=1, column=1, padx=10, pady=10)\n",
    "tk.Button(root, text=\"파일 저장\", command=select_output_file).grid(row=1, column=2, padx=10, pady=10)\n",
    "\n",
    "tk.Button(root, text=\"실행\", command=run_process).grid(row=2, column=0, columnspan=3, pady=20)\n",
    "\n",
    "root.mainloop()\n"
   ]
  }
 ],
 "metadata": {
  "kernelspec": {
   "display_name": "base",
   "language": "python",
   "name": "python3"
  },
  "language_info": {
   "name": "python",
   "version": "3.11.7"
  }
 },
 "nbformat": 4,
 "nbformat_minor": 2
}
